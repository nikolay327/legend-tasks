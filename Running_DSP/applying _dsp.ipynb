{
 "cells": [
  {
   "cell_type": "code",
   "execution_count": 12,
   "id": "a3441bcb-7eb9-43fd-96ff-e080c93224ac",
   "metadata": {},
   "outputs": [],
   "source": [
    "from pygama.dsp import build_dsp\n",
    "import json\n",
    "\n",
    "lh5_file='/mnt/atlas01/projects/legend/data/com/raw/2022-04-13-sipm-test/run007/c/20220420-073717-m6-muon-amajl4-mmaj2-es2000.lh5'\n",
    "dsp_config='/home/ge35miw/pygama/tests/dsp/configs/sipm-dsp-config.json'\n",
    "target='/home/ge35miw/Tasks/DSP_practice/processed_data.lh5'\n",
    "channel_map='/mnt/atlas01/projects/legend/data/com/raw/2022-04-13-sipm-test/channel-map.json'"
   ]
  },
  {
   "cell_type": "code",
   "execution_count": 16,
   "id": "f7c48494-8c26-4306-ae31-cfda9960395d",
   "metadata": {},
   "outputs": [],
   "source": [
    "#Tables to consider\n",
    "with open(channel_map, 'r') as f:\n",
    "    c_names=list(json.load(f)['hardware_configuration']['channel_map'].keys())\n",
    "\n",
    "tables=[ch+'/raw/' for ch in c_names]"
   ]
  },
  {
   "cell_type": "code",
   "execution_count": 17,
   "id": "293115bc-feda-4f4b-b578-13561a6c958b",
   "metadata": {},
   "outputs": [
    {
     "name": "stderr",
     "output_type": "stream",
     "text": [
      "Processing table ch000/raw/: 100%|██████████| 35652/35652 [00:09<00:00, 3637.50 rows/s]\n",
      "Processing table ch001/raw/: 100%|██████████| 35652/35652 [00:08<00:00, 4005.04 rows/s]\n",
      "Processing table ch002/raw/: 100%|██████████| 35652/35652 [00:08<00:00, 4045.15 rows/s]\n",
      "Processing table ch003/raw/: 100%|██████████| 35652/35652 [00:09<00:00, 3900.13 rows/s]\n",
      "Processing table ch004/raw/: 100%|██████████| 35652/35652 [00:09<00:00, 3896.80 rows/s]\n",
      "Processing table ch005/raw/: 100%|██████████| 35652/35652 [00:08<00:00, 3986.69 rows/s]\n",
      "Processing table ch006/raw/: 100%|██████████| 35652/35652 [00:11<00:00, 3179.01 rows/s]\n",
      "Processing table ch007/raw/: 100%|██████████| 35652/35652 [00:08<00:00, 4201.09 rows/s]\n",
      "Processing table ch008/raw/: 100%|██████████| 35652/35652 [00:10<00:00, 3503.70 rows/s]\n",
      "Processing table ch009/raw/: 100%|██████████| 35652/35652 [00:09<00:00, 3596.84 rows/s]\n",
      "Processing table ch010/raw/: 100%|██████████| 35652/35652 [00:09<00:00, 3766.44 rows/s]\n",
      "Processing table ch011/raw/: 100%|██████████| 35652/35652 [00:09<00:00, 3843.88 rows/s]\n",
      "Processing table ch012/raw/: 100%|██████████| 35652/35652 [00:10<00:00, 3369.02 rows/s]\n",
      "Processing table ch013/raw/: 100%|██████████| 35652/35652 [00:10<00:00, 3288.36 rows/s]\n",
      "Processing table ch014/raw/: 100%|██████████| 35652/35652 [00:10<00:00, 3554.86 rows/s]\n",
      "Processing table ch015/raw/: 100%|██████████| 35652/35652 [00:09<00:00, 3832.82 rows/s]\n",
      "Processing table ch016/raw/: 100%|██████████| 35652/35652 [00:10<00:00, 3489.44 rows/s]\n",
      "Processing table ch017/raw/: 100%|██████████| 35652/35652 [00:09<00:00, 3595.55 rows/s]\n",
      "Processing table ch018/raw/: 100%|██████████| 35652/35652 [00:08<00:00, 4166.58 rows/s]\n",
      "Processing table ch019/raw/: 100%|██████████| 35652/35652 [00:08<00:00, 4129.67 rows/s]\n",
      "Processing table ch020/raw/: 100%|██████████| 35652/35652 [00:08<00:00, 3969.27 rows/s]\n",
      "Processing table ch021/raw/: 100%|██████████| 35652/35652 [00:09<00:00, 3857.74 rows/s]\n",
      "Processing table ch022/raw/: 100%|██████████| 35652/35652 [00:08<00:00, 4055.68 rows/s]\n",
      "Processing table ch023/raw/: 100%|██████████| 35652/35652 [00:08<00:00, 4063.95 rows/s]\n",
      "Processing table ch024/raw/: 100%|██████████| 35652/35652 [00:08<00:00, 3987.65 rows/s]\n",
      "Processing table ch025/raw/: 100%|██████████| 35652/35652 [00:08<00:00, 4003.00 rows/s]\n",
      "Processing table ch026/raw/: 100%|██████████| 35652/35652 [00:10<00:00, 3558.92 rows/s]\n",
      "Processing table ch027/raw/: 100%|██████████| 35652/35652 [00:09<00:00, 3742.71 rows/s]\n",
      "Processing table ch028/raw/: 100%|██████████| 35652/35652 [00:09<00:00, 3601.91 rows/s]\n",
      "Processing table ch029/raw/: 100%|██████████| 35652/35652 [00:10<00:00, 3534.92 rows/s]\n",
      "Processing table ch030/raw/: 100%|██████████| 35652/35652 [00:11<00:00, 3202.27 rows/s]\n",
      "Processing table ch031/raw/: 100%|██████████| 35652/35652 [00:11<00:00, 3212.79 rows/s]\n",
      "Processing table ch032/raw/: 100%|██████████| 35652/35652 [00:11<00:00, 3198.39 rows/s]\n"
     ]
    }
   ],
   "source": [
    "build_dsp(lh5_file, target, dsp_config, tables, write_mode='r')"
   ]
  },
  {
   "cell_type": "code",
   "execution_count": 19,
   "id": "a4b8ed7b-7014-4364-ba35-fab92fef94dd",
   "metadata": {
    "tags": []
   },
   "outputs": [
    {
     "name": "stdout",
     "output_type": "stream",
     "text": [
      "\u001b[1m/\u001b[0m\n",
      "├── \u001b[1mch000\u001b[0m · HDF5 group\n",
      "│   └── \u001b[1mdsp\u001b[0m · table{energies,trigger_pos}\n",
      "│       ├── \u001b[1menergies\u001b[0m · array_of_equalsized_arrays<2>{real}\n",
      "│       └── \u001b[1mtrigger_pos\u001b[0m · array_of_equalsized_arrays<2>{real}\n",
      "├── \u001b[1mch001\u001b[0m · HDF5 group\n",
      "│   └── \u001b[1mdsp\u001b[0m · table{energies,trigger_pos}\n",
      "│       ├── \u001b[1menergies\u001b[0m · array_of_equalsized_arrays<2>{real}\n",
      "│       └── \u001b[1mtrigger_pos\u001b[0m · array_of_equalsized_arrays<2>{real}\n",
      "├── \u001b[1mch002\u001b[0m · HDF5 group\n",
      "│   └── \u001b[1mdsp\u001b[0m · table{energies,trigger_pos}\n",
      "│       ├── \u001b[1menergies\u001b[0m · array_of_equalsized_arrays<2>{real}\n",
      "│       └── \u001b[1mtrigger_pos\u001b[0m · array_of_equalsized_arrays<2>{real}\n",
      "├── \u001b[1mch003\u001b[0m · HDF5 group\n",
      "│   └── \u001b[1mdsp\u001b[0m · table{energies,trigger_pos}\n",
      "│       ├── \u001b[1menergies\u001b[0m · array_of_equalsized_arrays<2>{real}\n",
      "│       └── \u001b[1mtrigger_pos\u001b[0m · array_of_equalsized_arrays<2>{real}\n",
      "├── \u001b[1mch004\u001b[0m · HDF5 group\n",
      "│   └── \u001b[1mdsp\u001b[0m · table{energies,trigger_pos}\n",
      "│       ├── \u001b[1menergies\u001b[0m · array_of_equalsized_arrays<2>{real}\n",
      "│       └── \u001b[1mtrigger_pos\u001b[0m · array_of_equalsized_arrays<2>{real}\n",
      "├── \u001b[1mch005\u001b[0m · HDF5 group\n",
      "│   └── \u001b[1mdsp\u001b[0m · table{energies,trigger_pos}\n",
      "│       ├── \u001b[1menergies\u001b[0m · array_of_equalsized_arrays<2>{real}\n",
      "│       └── \u001b[1mtrigger_pos\u001b[0m · array_of_equalsized_arrays<2>{real}\n",
      "├── \u001b[1mch006\u001b[0m · HDF5 group\n",
      "│   └── \u001b[1mdsp\u001b[0m · table{energies,trigger_pos}\n",
      "│       ├── \u001b[1menergies\u001b[0m · array_of_equalsized_arrays<2>{real}\n",
      "│       └── \u001b[1mtrigger_pos\u001b[0m · array_of_equalsized_arrays<2>{real}\n",
      "├── \u001b[1mch007\u001b[0m · HDF5 group\n",
      "│   └── \u001b[1mdsp\u001b[0m · table{energies,trigger_pos}\n",
      "│       ├── \u001b[1menergies\u001b[0m · array_of_equalsized_arrays<2>{real}\n",
      "│       └── \u001b[1mtrigger_pos\u001b[0m · array_of_equalsized_arrays<2>{real}\n",
      "├── \u001b[1mch008\u001b[0m · HDF5 group\n",
      "│   └── \u001b[1mdsp\u001b[0m · table{energies,trigger_pos}\n",
      "│       ├── \u001b[1menergies\u001b[0m · array_of_equalsized_arrays<2>{real}\n",
      "│       └── \u001b[1mtrigger_pos\u001b[0m · array_of_equalsized_arrays<2>{real}\n",
      "├── \u001b[1mch009\u001b[0m · HDF5 group\n",
      "│   └── \u001b[1mdsp\u001b[0m · table{energies,trigger_pos}\n",
      "│       ├── \u001b[1menergies\u001b[0m · array_of_equalsized_arrays<2>{real}\n",
      "│       └── \u001b[1mtrigger_pos\u001b[0m · array_of_equalsized_arrays<2>{real}\n",
      "├── \u001b[1mch010\u001b[0m · HDF5 group\n",
      "│   └── \u001b[1mdsp\u001b[0m · table{energies,trigger_pos}\n",
      "│       ├── \u001b[1menergies\u001b[0m · array_of_equalsized_arrays<2>{real}\n",
      "│       └── \u001b[1mtrigger_pos\u001b[0m · array_of_equalsized_arrays<2>{real}\n",
      "├── \u001b[1mch011\u001b[0m · HDF5 group\n",
      "│   └── \u001b[1mdsp\u001b[0m · table{energies,trigger_pos}\n",
      "│       ├── \u001b[1menergies\u001b[0m · array_of_equalsized_arrays<2>{real}\n",
      "│       └── \u001b[1mtrigger_pos\u001b[0m · array_of_equalsized_arrays<2>{real}\n",
      "├── \u001b[1mch012\u001b[0m · HDF5 group\n",
      "│   └── \u001b[1mdsp\u001b[0m · table{energies,trigger_pos}\n",
      "│       ├── \u001b[1menergies\u001b[0m · array_of_equalsized_arrays<2>{real}\n",
      "│       └── \u001b[1mtrigger_pos\u001b[0m · array_of_equalsized_arrays<2>{real}\n",
      "├── \u001b[1mch013\u001b[0m · HDF5 group\n",
      "│   └── \u001b[1mdsp\u001b[0m · table{energies,trigger_pos}\n",
      "│       ├── \u001b[1menergies\u001b[0m · array_of_equalsized_arrays<2>{real}\n",
      "│       └── \u001b[1mtrigger_pos\u001b[0m · array_of_equalsized_arrays<2>{real}\n",
      "├── \u001b[1mch014\u001b[0m · HDF5 group\n",
      "│   └── \u001b[1mdsp\u001b[0m · table{energies,trigger_pos}\n",
      "│       ├── \u001b[1menergies\u001b[0m · array_of_equalsized_arrays<2>{real}\n",
      "│       └── \u001b[1mtrigger_pos\u001b[0m · array_of_equalsized_arrays<2>{real}\n",
      "├── \u001b[1mch015\u001b[0m · HDF5 group\n",
      "│   └── \u001b[1mdsp\u001b[0m · table{energies,trigger_pos}\n",
      "│       ├── \u001b[1menergies\u001b[0m · array_of_equalsized_arrays<2>{real}\n",
      "│       └── \u001b[1mtrigger_pos\u001b[0m · array_of_equalsized_arrays<2>{real}\n",
      "├── \u001b[1mch016\u001b[0m · HDF5 group\n",
      "│   └── \u001b[1mdsp\u001b[0m · table{energies,trigger_pos}\n",
      "│       ├── \u001b[1menergies\u001b[0m · array_of_equalsized_arrays<2>{real}\n",
      "│       └── \u001b[1mtrigger_pos\u001b[0m · array_of_equalsized_arrays<2>{real}\n",
      "├── \u001b[1mch017\u001b[0m · HDF5 group\n",
      "│   └── \u001b[1mdsp\u001b[0m · table{energies,trigger_pos}\n",
      "│       ├── \u001b[1menergies\u001b[0m · array_of_equalsized_arrays<2>{real}\n",
      "│       └── \u001b[1mtrigger_pos\u001b[0m · array_of_equalsized_arrays<2>{real}\n",
      "├── \u001b[1mch018\u001b[0m · HDF5 group\n",
      "│   └── \u001b[1mdsp\u001b[0m · table{energies,trigger_pos}\n",
      "│       ├── \u001b[1menergies\u001b[0m · array_of_equalsized_arrays<2>{real}\n",
      "│       └── \u001b[1mtrigger_pos\u001b[0m · array_of_equalsized_arrays<2>{real}\n",
      "├── \u001b[1mch019\u001b[0m · HDF5 group\n",
      "│   └── \u001b[1mdsp\u001b[0m · table{energies,trigger_pos}\n",
      "│       ├── \u001b[1menergies\u001b[0m · array_of_equalsized_arrays<2>{real}\n",
      "│       └── \u001b[1mtrigger_pos\u001b[0m · array_of_equalsized_arrays<2>{real}\n",
      "├── \u001b[1mch020\u001b[0m · HDF5 group\n",
      "│   └── \u001b[1mdsp\u001b[0m · table{energies,trigger_pos}\n",
      "│       ├── \u001b[1menergies\u001b[0m · array_of_equalsized_arrays<2>{real}\n",
      "│       └── \u001b[1mtrigger_pos\u001b[0m · array_of_equalsized_arrays<2>{real}\n",
      "├── \u001b[1mch021\u001b[0m · HDF5 group\n",
      "│   └── \u001b[1mdsp\u001b[0m · table{energies,trigger_pos}\n",
      "│       ├── \u001b[1menergies\u001b[0m · array_of_equalsized_arrays<2>{real}\n",
      "│       └── \u001b[1mtrigger_pos\u001b[0m · array_of_equalsized_arrays<2>{real}\n",
      "├── \u001b[1mch022\u001b[0m · HDF5 group\n",
      "│   └── \u001b[1mdsp\u001b[0m · table{energies,trigger_pos}\n",
      "│       ├── \u001b[1menergies\u001b[0m · array_of_equalsized_arrays<2>{real}\n",
      "│       └── \u001b[1mtrigger_pos\u001b[0m · array_of_equalsized_arrays<2>{real}\n",
      "├── \u001b[1mch023\u001b[0m · HDF5 group\n",
      "│   └── \u001b[1mdsp\u001b[0m · table{energies,trigger_pos}\n",
      "│       ├── \u001b[1menergies\u001b[0m · array_of_equalsized_arrays<2>{real}\n",
      "│       └── \u001b[1mtrigger_pos\u001b[0m · array_of_equalsized_arrays<2>{real}\n",
      "├── \u001b[1mch024\u001b[0m · HDF5 group\n",
      "│   └── \u001b[1mdsp\u001b[0m · table{energies,trigger_pos}\n",
      "│       ├── \u001b[1menergies\u001b[0m · array_of_equalsized_arrays<2>{real}\n",
      "│       └── \u001b[1mtrigger_pos\u001b[0m · array_of_equalsized_arrays<2>{real}\n",
      "├── \u001b[1mch025\u001b[0m · HDF5 group\n",
      "│   └── \u001b[1mdsp\u001b[0m · table{energies,trigger_pos}\n",
      "│       ├── \u001b[1menergies\u001b[0m · array_of_equalsized_arrays<2>{real}\n",
      "│       └── \u001b[1mtrigger_pos\u001b[0m · array_of_equalsized_arrays<2>{real}\n",
      "├── \u001b[1mch026\u001b[0m · HDF5 group\n",
      "│   └── \u001b[1mdsp\u001b[0m · table{energies,trigger_pos}\n",
      "│       ├── \u001b[1menergies\u001b[0m · array_of_equalsized_arrays<2>{real}\n",
      "│       └── \u001b[1mtrigger_pos\u001b[0m · array_of_equalsized_arrays<2>{real}\n",
      "├── \u001b[1mch027\u001b[0m · HDF5 group\n",
      "│   └── \u001b[1mdsp\u001b[0m · table{energies,trigger_pos}\n",
      "│       ├── \u001b[1menergies\u001b[0m · array_of_equalsized_arrays<2>{real}\n",
      "│       └── \u001b[1mtrigger_pos\u001b[0m · array_of_equalsized_arrays<2>{real}\n",
      "├── \u001b[1mch028\u001b[0m · HDF5 group\n",
      "│   └── \u001b[1mdsp\u001b[0m · table{energies,trigger_pos}\n",
      "│       ├── \u001b[1menergies\u001b[0m · array_of_equalsized_arrays<2>{real}\n",
      "│       └── \u001b[1mtrigger_pos\u001b[0m · array_of_equalsized_arrays<2>{real}\n",
      "├── \u001b[1mch029\u001b[0m · HDF5 group\n",
      "│   └── \u001b[1mdsp\u001b[0m · table{energies,trigger_pos}\n",
      "│       ├── \u001b[1menergies\u001b[0m · array_of_equalsized_arrays<2>{real}\n",
      "│       └── \u001b[1mtrigger_pos\u001b[0m · array_of_equalsized_arrays<2>{real}\n",
      "├── \u001b[1mch030\u001b[0m · HDF5 group\n",
      "│   └── \u001b[1mdsp\u001b[0m · table{energies,trigger_pos}\n",
      "│       ├── \u001b[1menergies\u001b[0m · array_of_equalsized_arrays<2>{real}\n",
      "│       └── \u001b[1mtrigger_pos\u001b[0m · array_of_equalsized_arrays<2>{real}\n",
      "├── \u001b[1mch031\u001b[0m · HDF5 group\n",
      "│   └── \u001b[1mdsp\u001b[0m · table{energies,trigger_pos}\n",
      "│       ├── \u001b[1menergies\u001b[0m · array_of_equalsized_arrays<2>{real}\n",
      "│       └── \u001b[1mtrigger_pos\u001b[0m · array_of_equalsized_arrays<2>{real}\n",
      "├── \u001b[1mch032\u001b[0m · HDF5 group\n",
      "│   └── \u001b[1mdsp\u001b[0m · table{energies,trigger_pos}\n",
      "│       ├── \u001b[1menergies\u001b[0m · array_of_equalsized_arrays<2>{real}\n",
      "│       └── \u001b[1mtrigger_pos\u001b[0m · array_of_equalsized_arrays<2>{real}\n",
      "└── \u001b[1mdsp_info\u001b[0m · struct{timestamp,python_version,numpy_version,h5py_version,hdf5_version,pygama_version}\n",
      "    ├── \u001b[1mh5py_version\u001b[0m · string\n",
      "    ├── \u001b[1mhdf5_version\u001b[0m · string\n",
      "    ├── \u001b[1mnumpy_version\u001b[0m · string\n",
      "    ├── \u001b[1mpygama_version\u001b[0m · string\n",
      "    ├── \u001b[1mpython_version\u001b[0m · string\n",
      "    └── \u001b[1mtimestamp\u001b[0m · real\n"
     ]
    }
   ],
   "source": [
    "from pygama.lgdo import show\n",
    "show(target)"
   ]
  },
  {
   "cell_type": "code",
   "execution_count": 22,
   "id": "952fefe8-68d6-4a4f-85c1-705f8083ba92",
   "metadata": {},
   "outputs": [
    {
     "name": "stdout",
     "output_type": "stream",
     "text": [
      "[[10.371485   3.015625   3.239453  ...        nan        nan        nan]\n",
      " [ 2.9193358  4.1335936 11.233203  ...        nan        nan        nan]\n",
      " [ 4.6078124  3.5382812  9.059961  ...        nan        nan        nan]\n",
      " ...\n",
      " [ 4.2572265 11.068945   7.233789  ...        nan        nan        nan]\n",
      " [13.181055  19.262695  11.208789  ...        nan        nan        nan]\n",
      " [ 7.1654296  6.241992   9.741602  ...        nan        nan        nan]] with attrs={'units': 'ADC'}\n"
     ]
    }
   ],
   "source": [
    "#viewing one of the processed data\n",
    "from pygama.lgdo import LH5Store\n",
    "store=LH5Store()\n",
    "energies,_=store.read_object('/ch002/dsp/energies', target)\n",
    "print(energies)"
   ]
  },
  {
   "cell_type": "code",
   "execution_count": 26,
   "id": "3b117932-e5a1-4c8c-8da7-4f781e8b2253",
   "metadata": {},
   "outputs": [],
   "source": [
    "#Comparing the result of 1st entriy in 'ch001/raw/waveform' with the result when running the processors one by one\n",
    "energy,_=store.read_object('/ch001/dsp/energies', target)"
   ]
  },
  {
   "cell_type": "code",
   "execution_count": 30,
   "id": "24d253e9-8eb3-445c-9b78-2bb832a6bcff",
   "metadata": {},
   "outputs": [
    {
     "data": {
      "text/plain": [
       "array([11.78125 , 16.024023,       nan, ...,       nan,       nan,\n",
       "             nan], dtype=float32)"
      ]
     },
     "execution_count": 30,
     "metadata": {},
     "output_type": "execute_result"
    }
   ],
   "source": [
    "energy.nda[0] #the values match!"
   ]
  }
 ],
 "metadata": {
  "kernelspec": {
   "display_name": "pygama",
   "language": "python",
   "name": "pygama"
  },
  "language_info": {
   "codemirror_mode": {
    "name": "ipython",
    "version": 3
   },
   "file_extension": ".py",
   "mimetype": "text/x-python",
   "name": "python",
   "nbconvert_exporter": "python",
   "pygments_lexer": "ipython3",
   "version": "3.10.0"
  }
 },
 "nbformat": 4,
 "nbformat_minor": 5
}
